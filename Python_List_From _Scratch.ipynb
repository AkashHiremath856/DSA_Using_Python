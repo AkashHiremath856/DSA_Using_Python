{
 "cells": [
  {
   "cell_type": "markdown",
   "id": "114cf68d-8821-47ee-93c2-cbb824a7e250",
   "metadata": {},
   "source": [
    "## Exporing dynamic array feature"
   ]
  },
  {
   "cell_type": "code",
   "execution_count": 1,
   "id": "c14326bc-e6c2-4b90-a095-43a9d2b13b58",
   "metadata": {},
   "outputs": [
    {
     "name": "stdout",
     "output_type": "stream",
     "text": [
      "120 3\n",
      "120 4\n",
      "120 5\n",
      "120 6\n",
      "120 7\n",
      "120 8\n",
      "184 9\n",
      "184 10\n",
      "184 11\n",
      "184 12\n",
      "184 13\n",
      "184 14\n",
      "184 15\n",
      "184 16\n",
      "248 17\n",
      "248 18\n",
      "248 19\n",
      "248 20\n",
      "248 21\n",
      "248 22\n"
     ]
    }
   ],
   "source": [
    "import sys\n",
    "\n",
    "l = [\"Hello\", 100]\n",
    "for i in range(20):\n",
    "    l.append(i)\n",
    "    print(sys.getsizeof(l), len(l))  # printing length and size assigned for list"
   ]
  },
  {
   "cell_type": "markdown",
   "id": "1b036e41-2711-4819-8b40-5240be7679b0",
   "metadata": {},
   "source": [
    "## Building list from scratch"
   ]
  },
  {
   "cell_type": "code",
   "execution_count": 2,
   "id": "3f3e4b77-f040-45c1-98db-5edf316f5c97",
   "metadata": {},
   "outputs": [],
   "source": [
    "import ctypes\n",
    "import warnings"
   ]
  },
  {
   "cell_type": "code",
   "execution_count": 3,
   "id": "09b08939-2879-4232-a21b-15fd0c338a75",
   "metadata": {},
   "outputs": [],
   "source": [
    "class MyList:\n",
    "    def __init__(self):\n",
    "        self.size = 1\n",
    "        self.n = 0\n",
    "        # Create array of size\n",
    "        self.A = self.create_array(self.size)\n",
    "\n",
    "    ## Create an Array\n",
    "    def create_array(self, capacity):\n",
    "        # Creates ctype array (static referential array)with fixed size\n",
    "        return (capacity * ctypes.py_object)()\n",
    "\n",
    "    ## Length\n",
    "    def __len__(self):\n",
    "        return self.n\n",
    "\n",
    "    ## _resize\n",
    "    def _resize(self, new_capacity):\n",
    "        # Creating new list of new size\n",
    "        B = self.create_array(new_capacity)\n",
    "        self.size = new_capacity\n",
    "        # Adding values of A into new array\n",
    "        for i in range(self.n):\n",
    "            B[i] = self.A[i]\n",
    "        # Reassigning B to A\n",
    "        self.A = B\n",
    "        del B\n",
    "\n",
    "    ## Append\n",
    "    def append(self, item):\n",
    "        if self.n == self.size:\n",
    "            # Resize\n",
    "            self._resize(self.size * 2)\n",
    "\n",
    "        # append\n",
    "        self.A[self.n] = item\n",
    "        self.n = self.n + 1\n",
    "\n",
    "    ##  Printing\n",
    "    def __str__(self):\n",
    "        result = \"\"\n",
    "        for i in range(self.n):\n",
    "            result = result + str(self.A[i]) + \",\"\n",
    "        return \"[\" + result[:-1] + \"]\"\n",
    "\n",
    "    ## Indexing\n",
    "    def __getitem__(self, index):\n",
    "        if 0 <= index < self.n:\n",
    "            return self.A[index]\n",
    "        else:\n",
    "            return warnings.warn(f\"IndexError - Index {index} is out of bounds.\")\n",
    "\n",
    "    ## Pop last element\n",
    "    def pop(self):\n",
    "        if self.n == 0:\n",
    "            return warnings.warn(\"List is Empty\")\n",
    "        print(self.A[self.n - 1])\n",
    "        self.n = self.n - 1\n",
    "\n",
    "    ## Clear list (empty list)\n",
    "    def clear(self):\n",
    "        self.size = 1\n",
    "        self.n = 0\n",
    "\n",
    "    ## Find returns index of item\n",
    "    def find(self, item):\n",
    "        for i in range(self.n):\n",
    "            if self.A[i] == item:\n",
    "                return i\n",
    "            else:\n",
    "                return warnings.warn(\"ValueError - Item not found in the list\")\n",
    "\n",
    "    ## Insert (Insert element at particular index)\n",
    "    def insert(self, index, item):\n",
    "        if self.n == self.size:\n",
    "            self._resize(self.size * 2)\n",
    "\n",
    "        # Shifting list items by 1\n",
    "        for i in range(self.n, index, -1):\n",
    "            self.A[i] = self.A[i - 1]\n",
    "        self.A[index] = item\n",
    "        self.n = self.n + 1\n",
    "\n",
    "    ## Delete (Removing item from paricular index)\n",
    "    def __delitem__(self, index):\n",
    "        if 0 <= index < self.n:\n",
    "            for i in range(index, self.n - 1):\n",
    "                self.A[i] = self.A[i + 1]\n",
    "            self.n = self.n - 1\n",
    "\n",
    "    ## Removing item\n",
    "    def remove(self, item):\n",
    "        pos = self.find(item)\n",
    "        if type(pos) == int:\n",
    "            self.__delitem__(pos)\n",
    "        else:\n",
    "            return pos"
   ]
  },
  {
   "cell_type": "code",
   "execution_count": 4,
   "id": "9f94ef76-c0f3-4f85-9866-2e892ea516c7",
   "metadata": {},
   "outputs": [],
   "source": [
    "list = MyList()"
   ]
  },
  {
   "cell_type": "code",
   "execution_count": 5,
   "id": "5bbb5ad6-d05d-4392-bb3b-7e58555cc5c6",
   "metadata": {},
   "outputs": [
    {
     "data": {
      "text/plain": [
       "'[yo,1,Hello,101]'"
      ]
     },
     "execution_count": 5,
     "metadata": {},
     "output_type": "execute_result"
    }
   ],
   "source": [
    "list.append(\"yo\")\n",
    "list.append(1)\n",
    "list.append(\"Hello\")\n",
    "list.append(101)\n",
    "list.__str__()"
   ]
  },
  {
   "cell_type": "code",
   "execution_count": 6,
   "id": "affb4ad7-4156-46ef-9e72-04567150d53a",
   "metadata": {},
   "outputs": [
    {
     "data": {
      "text/plain": [
       "4"
      ]
     },
     "execution_count": 6,
     "metadata": {},
     "output_type": "execute_result"
    }
   ],
   "source": [
    "len(list)"
   ]
  },
  {
   "cell_type": "code",
   "execution_count": 7,
   "id": "70c61432-e197-4b3b-a96c-b810dda47c9d",
   "metadata": {},
   "outputs": [
    {
     "name": "stdout",
     "output_type": "stream",
     "text": [
      "[yo,1,Hello,101]\n"
     ]
    }
   ],
   "source": [
    "print(list)"
   ]
  },
  {
   "cell_type": "code",
   "execution_count": 8,
   "id": "e4bfa3c1-f5c6-4860-8959-1498aa52fba0",
   "metadata": {},
   "outputs": [
    {
     "data": {
      "text/plain": [
       "'yo'"
      ]
     },
     "execution_count": 8,
     "metadata": {},
     "output_type": "execute_result"
    }
   ],
   "source": [
    "list[0]"
   ]
  },
  {
   "cell_type": "code",
   "execution_count": 9,
   "id": "fc3269d1-c621-4c21-a6ca-1a0b7c955653",
   "metadata": {},
   "outputs": [
    {
     "data": {
      "text/plain": [
       "101"
      ]
     },
     "execution_count": 9,
     "metadata": {},
     "output_type": "execute_result"
    }
   ],
   "source": [
    "list[3]"
   ]
  },
  {
   "cell_type": "code",
   "execution_count": 10,
   "id": "35f91952-e187-4d84-8879-1570c9df91f8",
   "metadata": {},
   "outputs": [
    {
     "name": "stdout",
     "output_type": "stream",
     "text": [
      "101\n"
     ]
    }
   ],
   "source": [
    "list.pop()"
   ]
  },
  {
   "cell_type": "code",
   "execution_count": 11,
   "id": "a0b2fc58-4d76-40ca-93ab-4b114589fb02",
   "metadata": {},
   "outputs": [
    {
     "name": "stderr",
     "output_type": "stream",
     "text": [
      "C:\\Users\\akash\\AppData\\Local\\Temp\\ipykernel_14588\\1139918340.py:71: UserWarning: ValueError - Item not found in the list\n",
      "  return warnings.warn(\"ValueError - Item not found in the list\")\n"
     ]
    }
   ],
   "source": [
    "list.find(0)"
   ]
  },
  {
   "cell_type": "code",
   "execution_count": 12,
   "id": "d06fa82a-720f-4af4-a463-53f3e8e45784",
   "metadata": {},
   "outputs": [
    {
     "data": {
      "text/plain": [
       "0"
      ]
     },
     "execution_count": 12,
     "metadata": {},
     "output_type": "execute_result"
    }
   ],
   "source": [
    "list.find(\"yo\")"
   ]
  },
  {
   "cell_type": "code",
   "execution_count": 13,
   "id": "259c5e58-1530-4b07-be59-5c6f09b2aaa4",
   "metadata": {},
   "outputs": [
    {
     "name": "stdout",
     "output_type": "stream",
     "text": [
      "[yo,hello,1,Hello]\n"
     ]
    }
   ],
   "source": [
    "list.insert(1, \"hello\")\n",
    "print(list)"
   ]
  },
  {
   "cell_type": "code",
   "execution_count": 14,
   "id": "7b6888a0-967f-4f7d-afc0-9a3ebbf1a2a4",
   "metadata": {},
   "outputs": [
    {
     "name": "stdout",
     "output_type": "stream",
     "text": [
      "[yo,hello,World,1,Hello]\n"
     ]
    }
   ],
   "source": [
    "list.insert(2, \"World\")\n",
    "print(list)"
   ]
  },
  {
   "cell_type": "code",
   "execution_count": 15,
   "id": "0affed1a-8801-4826-bb2a-bb0a560a64a4",
   "metadata": {},
   "outputs": [
    {
     "name": "stdout",
     "output_type": "stream",
     "text": [
      "[yo,World,1,Hello]\n"
     ]
    }
   ],
   "source": [
    "del list[1]\n",
    "print(list)"
   ]
  },
  {
   "cell_type": "code",
   "execution_count": 16,
   "id": "19755c94-1e06-4a6e-8df1-4b5efc01445d",
   "metadata": {},
   "outputs": [
    {
     "name": "stdout",
     "output_type": "stream",
     "text": [
      "[World,1,Hello]\n"
     ]
    }
   ],
   "source": [
    "list.remove(\"yo\")\n",
    "print(list)"
   ]
  }
 ],
 "metadata": {
  "kernelspec": {
   "display_name": "Python 3 (ipykernel)",
   "language": "python",
   "name": "python3"
  },
  "language_info": {
   "codemirror_mode": {
    "name": "ipython",
    "version": 3
   },
   "file_extension": ".py",
   "mimetype": "text/x-python",
   "name": "python",
   "nbconvert_exporter": "python",
   "pygments_lexer": "ipython3",
   "version": "3.11.6"
  }
 },
 "nbformat": 4,
 "nbformat_minor": 5
}
