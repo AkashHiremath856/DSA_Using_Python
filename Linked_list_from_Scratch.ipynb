{
 "cells": [
  {
   "cell_type": "markdown",
   "id": "f509242d-a03f-4b4e-9fcd-9fd4e9521b42",
   "metadata": {},
   "source": [
    "# Creating node class and connecting node objects "
   ]
  },
  {
   "cell_type": "code",
   "execution_count": 1,
   "id": "7f42b0e9-3dc5-4f00-a188-dd46712ba696",
   "metadata": {},
   "outputs": [],
   "source": [
    "class Node:\n",
    "    def __init__(self, value):\n",
    "        self.data = value\n",
    "        self.next = None"
   ]
  },
  {
   "cell_type": "code",
   "execution_count": 2,
   "id": "fdede30e-9c42-4415-9f21-622f4feb7abc",
   "metadata": {},
   "outputs": [],
   "source": [
    "a = Node(1)\n",
    "b = Node(2)\n",
    "c = Node(3)"
   ]
  },
  {
   "cell_type": "code",
   "execution_count": 3,
   "id": "9a2d24d4-430b-44b4-a131-0d1dcef9cc7f",
   "metadata": {},
   "outputs": [
    {
     "name": "stdout",
     "output_type": "stream",
     "text": [
      "1\n",
      "2\n",
      "3\n"
     ]
    }
   ],
   "source": [
    "print(a.data)\n",
    "print(b.data)\n",
    "print(c.data)"
   ]
  },
  {
   "cell_type": "markdown",
   "id": "dd6097de-07d6-4abb-9438-67f6674785c6",
   "metadata": {},
   "source": [
    "## Connecting node objects"
   ]
  },
  {
   "cell_type": "code",
   "execution_count": 4,
   "id": "6ad03dad-2568-4eef-805b-82720ddc34fb",
   "metadata": {},
   "outputs": [],
   "source": [
    "a.next = b\n",
    "b.next = c"
   ]
  },
  {
   "cell_type": "code",
   "execution_count": 5,
   "id": "4272b7f0-07a1-4bd5-991d-cfda5c1189bb",
   "metadata": {},
   "outputs": [
    {
     "data": {
      "text/plain": [
       "<__main__.Node at 0x221029ea190>"
      ]
     },
     "execution_count": 5,
     "metadata": {},
     "output_type": "execute_result"
    }
   ],
   "source": [
    "a.next"
   ]
  },
  {
   "cell_type": "markdown",
   "id": "62e9b100-d552-4d7d-9696-8c8a34b52b8f",
   "metadata": {},
   "source": [
    "### Converting hexadecimal to int"
   ]
  },
  {
   "cell_type": "code",
   "execution_count": 6,
   "id": "af9798bb-b93c-4e41-a932-f8ff3924f569",
   "metadata": {},
   "outputs": [
    {
     "data": {
      "text/plain": [
       "2145068395344"
      ]
     },
     "execution_count": 6,
     "metadata": {},
     "output_type": "execute_result"
    }
   ],
   "source": [
    "int(0x1F3700A2B50)"
   ]
  },
  {
   "cell_type": "markdown",
   "id": "30520106-351e-473b-a8c5-8209f1b384b3",
   "metadata": {},
   "source": [
    "### a.next address is equal to address of b"
   ]
  },
  {
   "cell_type": "code",
   "execution_count": 7,
   "id": "f2672de1-bcb3-4020-913d-fabd1fc993c5",
   "metadata": {},
   "outputs": [
    {
     "data": {
      "text/plain": [
       "2340801126800"
      ]
     },
     "execution_count": 7,
     "metadata": {},
     "output_type": "execute_result"
    }
   ],
   "source": [
    "id(b)"
   ]
  },
  {
   "cell_type": "markdown",
   "id": "e26ef234-2386-4380-a109-0386b55d009e",
   "metadata": {},
   "source": [
    "# Creating LinkedList class"
   ]
  },
  {
   "cell_type": "code",
   "execution_count": 8,
   "id": "b91bfac5-8caa-4aa7-84cc-6e2d867e2fc5",
   "metadata": {},
   "outputs": [],
   "source": [
    "import warnings"
   ]
  },
  {
   "cell_type": "code",
   "execution_count": 9,
   "id": "ea0c0c60-0910-4e7f-8043-822b8a8352aa",
   "metadata": {},
   "outputs": [],
   "source": [
    "class Node:\n",
    "    def __init__(self, value):\n",
    "        self.data = value\n",
    "        self.next = None\n",
    "\n",
    "\n",
    "class Linkedlist:\n",
    "    def __init__(self):\n",
    "        self.head = None\n",
    "        # Number of nodes initally\n",
    "        self.n = 0\n",
    "\n",
    "    # Length of LL\n",
    "    def __len__(self):\n",
    "        return self.n\n",
    "\n",
    "    # ----------------------Traverse-----------------------------#\n",
    "    def __str__(self):\n",
    "        curr = self.head\n",
    "        result = \"\"\n",
    "        while curr != None:\n",
    "            # Printing value for each node\n",
    "            result += str(curr.data) + \"->\"\n",
    "            # traversing through nodes\n",
    "            curr = curr.next\n",
    "        return result[:-2]\n",
    "\n",
    "    # ----------------------------Insertion--------------------------------#\n",
    "    # insert head\n",
    "    def insert_head(self, value):\n",
    "        new_node = Node(value)\n",
    "\n",
    "        # Connecting to head\n",
    "        new_node.next = self.head\n",
    "\n",
    "        # Reassigning head\n",
    "        self.head = new_node\n",
    "\n",
    "        # Increment node count\n",
    "        self.n = self.n + 1\n",
    "\n",
    "    # insert tail\n",
    "    def insert_tail(self, value):\n",
    "        # Initializing new node for inserting\n",
    "        new_node = Node(value)\n",
    "\n",
    "        # If empty\n",
    "        if self.head == None:\n",
    "            self.head = new_node\n",
    "\n",
    "        curr = self.head\n",
    "\n",
    "        while curr.next != None:\n",
    "            curr = curr.next\n",
    "\n",
    "        # On reaching tail\n",
    "        curr.next = new_node\n",
    "\n",
    "        # Increment node count\n",
    "        self.n = self.n + 1\n",
    "\n",
    "    def insert_after(self, after, value):\n",
    "        new_node = Node(value)\n",
    "\n",
    "        curr = self.head\n",
    "\n",
    "        while curr != None:\n",
    "            if curr.data == after:\n",
    "                break\n",
    "            curr = curr.next\n",
    "\n",
    "        if curr != None:\n",
    "            new_node.next = curr.next\n",
    "            curr.next = new_node\n",
    "        else:\n",
    "            return warnings.warn(\"Value not found..!\")\n",
    "\n",
    "    # Empty linkedlist\n",
    "    def clear(self):\n",
    "        self.n = 0\n",
    "        self.head = None\n",
    "\n",
    "    # --------------------------------Delete-----------------------#\n",
    "    def delete_head(self):\n",
    "        if self.head == None:\n",
    "            return warnings.warn(\"Linked List is empty!\")\n",
    "\n",
    "        self.head = self.head.next\n",
    "        self.n = self.n - 1\n",
    "\n",
    "    # Delete last\n",
    "    def delete_last(self):\n",
    "        curr = self.head\n",
    "\n",
    "        if curr == None:\n",
    "            return warnings.warn(\"Linked List is empty!\")\n",
    "\n",
    "        if curr.next == None:\n",
    "            self.delete_head()\n",
    "            return warnings.warn(\"Linked List has only 1 item\")\n",
    "\n",
    "        while curr.next.next != None:\n",
    "            curr = curr.next\n",
    "\n",
    "        curr.next = None\n",
    "        self.n = self.n - 1\n",
    "\n",
    "    # Delete by value\n",
    "    def delete_node(self, value):\n",
    "        curr = self.head\n",
    "\n",
    "        if curr == None:\n",
    "            return warnings.warn(\"Linked List is empty!\")\n",
    "\n",
    "        if curr.data == value:\n",
    "            return self.delete_head()\n",
    "\n",
    "        if curr.next == None:\n",
    "            self.delete_head()\n",
    "            return warnings.warn(\"Linked List has only 1 item\")\n",
    "\n",
    "        while curr.next != None:\n",
    "            if curr.next.data == value:\n",
    "                break\n",
    "            curr = curr.next\n",
    "\n",
    "        if curr.next == None:\n",
    "            return warnings.warn(f\"Value {value} not found in the Linked List\")\n",
    "\n",
    "        curr.next = curr.next.next\n",
    "\n",
    "    # ------------------------------------Searching------------------------------------------#\n",
    "    # Search using item\n",
    "    def search(self, item):\n",
    "        curr = self.head\n",
    "\n",
    "        index = 0\n",
    "\n",
    "        while curr.next != None:\n",
    "            if curr.data == item:\n",
    "                return index\n",
    "            index += 1\n",
    "            curr = curr.next\n",
    "\n",
    "        return warnings.warn(f\"Item {item} not found in the Linked List\")\n",
    "\n",
    "    # Indexing items\n",
    "    def __getitem__(self, index):\n",
    "        curr = self.head\n",
    "\n",
    "        if curr == None:\n",
    "            return warnings.warn(\"Linked List is empty!\")\n",
    "\n",
    "        pos = 0\n",
    "\n",
    "        while curr != None:\n",
    "            if pos == index:\n",
    "                return curr.data\n",
    "            curr = curr.next\n",
    "            pos += 1\n",
    "\n",
    "        return warnings.warn(f\"IndexOutOfBound Error: Not value found at index {index}\")"
   ]
  },
  {
   "cell_type": "code",
   "execution_count": 10,
   "id": "56b22028-9e1e-4e61-88a7-fcf845748851",
   "metadata": {},
   "outputs": [
    {
     "data": {
      "text/plain": [
       "<__main__.Linkedlist at 0x221029fd590>"
      ]
     },
     "execution_count": 10,
     "metadata": {},
     "output_type": "execute_result"
    }
   ],
   "source": [
    "l = Linkedlist()\n",
    "l"
   ]
  },
  {
   "cell_type": "code",
   "execution_count": 11,
   "id": "6c67c546-e6e2-45e9-b1be-edc0d26ee0c0",
   "metadata": {},
   "outputs": [
    {
     "data": {
      "text/plain": [
       "0"
      ]
     },
     "execution_count": 11,
     "metadata": {},
     "output_type": "execute_result"
    }
   ],
   "source": [
    "len(l)"
   ]
  },
  {
   "cell_type": "code",
   "execution_count": 12,
   "id": "357649bb-565e-4650-857b-19a0a3ab2574",
   "metadata": {},
   "outputs": [
    {
     "name": "stdout",
     "output_type": "stream",
     "text": [
      "1->2\n"
     ]
    }
   ],
   "source": [
    "l.insert_head(2)\n",
    "l.insert_head(1)\n",
    "print(l)"
   ]
  },
  {
   "cell_type": "code",
   "execution_count": 13,
   "id": "37fd8f20-4caf-4ec6-b3ff-5db64ce0780a",
   "metadata": {},
   "outputs": [
    {
     "name": "stdout",
     "output_type": "stream",
     "text": [
      "1->2->3->4->5\n"
     ]
    }
   ],
   "source": [
    "l.insert_tail(3)\n",
    "l.insert_tail(4)\n",
    "l.insert_tail(5)\n",
    "print(l)"
   ]
  },
  {
   "cell_type": "code",
   "execution_count": 14,
   "id": "15232c98-fc14-4885-9a31-c24d4b34a966",
   "metadata": {},
   "outputs": [
    {
     "name": "stdout",
     "output_type": "stream",
     "text": [
      "1->2->3->10->4->5\n"
     ]
    }
   ],
   "source": [
    "l.insert_after(3, 10)\n",
    "print(l)"
   ]
  },
  {
   "cell_type": "code",
   "execution_count": 15,
   "id": "f90a5a75-bc80-46b2-b71d-a14d29b77e67",
   "metadata": {},
   "outputs": [
    {
     "name": "stderr",
     "output_type": "stream",
     "text": [
      "C:\\Users\\akash\\AppData\\Local\\Temp\\ipykernel_3080\\3420102133.py:76: UserWarning: Value not found..!\n",
      "  return warnings.warn(\"Value not found..!\")\n"
     ]
    }
   ],
   "source": [
    "l.insert_after(13, 10)"
   ]
  },
  {
   "cell_type": "code",
   "execution_count": 16,
   "id": "8db4d1b8-b7bf-42c1-b764-b841ebbc422a",
   "metadata": {},
   "outputs": [
    {
     "name": "stdout",
     "output_type": "stream",
     "text": [
      "2->3->10->4->5\n"
     ]
    }
   ],
   "source": [
    "l.delete_head()\n",
    "print(l)"
   ]
  },
  {
   "cell_type": "code",
   "execution_count": 17,
   "id": "a58ffce0-c5c5-4d64-a211-34e75011be15",
   "metadata": {},
   "outputs": [
    {
     "name": "stdout",
     "output_type": "stream",
     "text": [
      "2->3->10->4\n"
     ]
    }
   ],
   "source": [
    "l.delete_last()\n",
    "print(l)"
   ]
  },
  {
   "cell_type": "code",
   "execution_count": 18,
   "id": "e28e8ef4-8953-4f02-a635-83337836abba",
   "metadata": {},
   "outputs": [
    {
     "name": "stdout",
     "output_type": "stream",
     "text": [
      "3->10->4\n"
     ]
    }
   ],
   "source": [
    "l.delete_node(2)\n",
    "print(l)"
   ]
  },
  {
   "cell_type": "code",
   "execution_count": 19,
   "id": "5316921f-2166-44dd-9179-1da6b22c571e",
   "metadata": {},
   "outputs": [
    {
     "data": {
      "text/plain": [
       "1"
      ]
     },
     "execution_count": 19,
     "metadata": {},
     "output_type": "execute_result"
    }
   ],
   "source": [
    "l.search(10)"
   ]
  },
  {
   "cell_type": "code",
   "execution_count": 20,
   "id": "b1f2075d-cb8b-4026-85c8-9a00019bc46a",
   "metadata": {},
   "outputs": [
    {
     "data": {
      "text/plain": [
       "4"
      ]
     },
     "execution_count": 20,
     "metadata": {},
     "output_type": "execute_result"
    }
   ],
   "source": [
    "l[2]"
   ]
  }
 ],
 "metadata": {
  "kernelspec": {
   "display_name": "Python 3 (ipykernel)",
   "language": "python",
   "name": "python3"
  },
  "language_info": {
   "codemirror_mode": {
    "name": "ipython",
    "version": 3
   },
   "file_extension": ".py",
   "mimetype": "text/x-python",
   "name": "python",
   "nbconvert_exporter": "python",
   "pygments_lexer": "ipython3",
   "version": "3.11.6"
  }
 },
 "nbformat": 4,
 "nbformat_minor": 5
}
